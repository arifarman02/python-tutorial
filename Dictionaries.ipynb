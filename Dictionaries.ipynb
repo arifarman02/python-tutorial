{
 "cells": [
  {
   "cell_type": "markdown",
   "metadata": {},
   "source": [
    "Dictionaries or hashmaps or associative arrays allow us to work with key value pairs. Key is a unique identifier (which can be integers, strings etc.) and the value is the data, just like a dictionary. We use curly braces to create a dictionary. Each item is separated by a comma."
   ]
  },
  {
   "cell_type": "code",
   "execution_count": 1,
   "metadata": {},
   "outputs": [
    {
     "name": "stdout",
     "output_type": "stream",
     "text": [
      "{'name': 'John', 'age': 25, 'courses': ['Maths', 'ComSci']}\n"
     ]
    }
   ],
   "source": [
    "student = {\"name\": \"John\", \"age\": 25, \"courses\": [\"Maths\", \"ComSci\"]}\n",
    "\n",
    "print (student)"
   ]
  },
  {
   "cell_type": "markdown",
   "metadata": {},
   "source": [
    "To get the value of one key, we can add square bracked after our dictionary and specify the key."
   ]
  },
  {
   "cell_type": "code",
   "execution_count": 2,
   "metadata": {},
   "outputs": [
    {
     "name": "stdout",
     "output_type": "stream",
     "text": [
      "John\n",
      "['Maths', 'ComSci']\n"
     ]
    }
   ],
   "source": [
    "print(student[\"name\"])\n",
    "print(student[\"courses\"])"
   ]
  },
  {
   "cell_type": "markdown",
   "metadata": {},
   "source": [
    "When we enter an invalid key, we get a key error, which is might not be what we want. Instead we may want a return \"none\" or a default value. To do this we can use the dictionaries get() method. We can pass in the key that we want and a message could display if it does not exist."
   ]
  },
  {
   "cell_type": "code",
   "execution_count": 5,
   "metadata": {},
   "outputs": [
    {
     "name": "stdout",
     "output_type": "stream",
     "text": [
      "John\n",
      "None\n",
      "Not Found\n"
     ]
    }
   ],
   "source": [
    "print(student.get(\"name\"))\n",
    "print(student.get(\"phone\"))\n",
    "print(student.get(\"address\", \"Not Found\"))"
   ]
  },
  {
   "cell_type": "markdown",
   "metadata": {},
   "source": [
    "To add items into our dictionary is simple as declaring our dictionary and using square brackets to create a key and assigning a value to it."
   ]
  },
  {
   "cell_type": "code",
   "execution_count": 7,
   "metadata": {},
   "outputs": [
    {
     "name": "stdout",
     "output_type": "stream",
     "text": [
      "555-5555\n"
     ]
    }
   ],
   "source": [
    "student[\"phone\"] = \"555-5555\"\n",
    "print(student.get(\"phone\"))"
   ]
  },
  {
   "cell_type": "markdown",
   "metadata": {},
   "source": [
    "We can use the same method to change the value of an existing key."
   ]
  },
  {
   "cell_type": "code",
   "execution_count": 8,
   "metadata": {},
   "outputs": [
    {
     "name": "stdout",
     "output_type": "stream",
     "text": [
      "{'name': 'Jane', 'age': 25, 'courses': ['Maths', 'ComSci'], 'phone': '555-5555'}\n"
     ]
    }
   ],
   "source": [
    "student[\"name\"] = \"Jane\"\n",
    "print(student)"
   ]
  },
  {
   "cell_type": "markdown",
   "metadata": {},
   "source": [
    "We can also update values using the update() method, which is very useful in when you want to update multiple values at the same time. We pass in dictionary containing everything that we want to add or update."
   ]
  },
  {
   "cell_type": "code",
   "execution_count": 9,
   "metadata": {},
   "outputs": [
    {
     "name": "stdout",
     "output_type": "stream",
     "text": [
      "{'name': 'John', 'age': 25, 'courses': ['Maths', 'ComSci']}\n",
      "{'name': 'Jane', 'age': 25, 'courses': ['Maths', 'ComSci'], 'phone': '555-5555'}\n"
     ]
    }
   ],
   "source": [
    "student = {\"name\": \"John\", \"age\": 25, \"courses\": [\"Maths\", \"ComSci\"]}\n",
    "\n",
    "print(student)\n",
    "\n",
    "student.update({'name': 'Jane', 'age': 25, 'phone': '555-5555'})\n",
    "\n",
    "print(student)"
   ]
  },
  {
   "cell_type": "markdown",
   "metadata": {},
   "source": [
    "We can delete items using the \"del\" key work and specify the dictionary and the key that we want to delete."
   ]
  },
  {
   "cell_type": "code",
   "execution_count": 10,
   "metadata": {},
   "outputs": [
    {
     "name": "stdout",
     "output_type": "stream",
     "text": [
      "{'name': 'Jane', 'courses': ['Maths', 'ComSci'], 'phone': '555-5555'}\n"
     ]
    }
   ],
   "source": [
    "del student[\"age\"]\n",
    "\n",
    "print(student)"
   ]
  },
  {
   "cell_type": "markdown",
   "metadata": {},
   "source": [
    "Another way we can remove a key and value is using the pop() method. The method will remove and also return the value, which would allow us to grab the returned value in a variable."
   ]
  },
  {
   "cell_type": "code",
   "execution_count": 11,
   "metadata": {},
   "outputs": [
    {
     "name": "stdout",
     "output_type": "stream",
     "text": [
      "{'name': 'John', 'age': 25, 'courses': ['Maths', 'ComSci']}\n",
      "{'name': 'John', 'courses': ['Maths', 'ComSci']}\n",
      "25\n"
     ]
    }
   ],
   "source": [
    "student = {\"name\": \"John\", \"age\": 25, \"courses\": [\"Maths\", \"ComSci\"]}\n",
    "\n",
    "print(student)\n",
    "\n",
    "age = student.pop(\"age\")\n",
    "\n",
    "print(student)\n",
    "print(age)"
   ]
  },
  {
   "cell_type": "markdown",
   "metadata": {},
   "source": [
    "If we want to find out how many items are in a list we can wrap our dictionary into the len() function. If we wanted the keys we can use the key() method and for the value we can use the values() method. If we wanted both keys and values we can use the items() method. We can also loop through a dictionary."
   ]
  },
  {
   "cell_type": "code",
   "execution_count": 15,
   "metadata": {},
   "outputs": [
    {
     "name": "stdout",
     "output_type": "stream",
     "text": [
      "3\n",
      "dict_keys(['name', 'age', 'courses'])\n",
      "dict_values(['John', 25, ['Maths', 'ComSci']])\n",
      "dict_items([('name', 'John'), ('age', 25), ('courses', ['Maths', 'ComSci'])])\n"
     ]
    }
   ],
   "source": [
    "student = {\"name\": \"John\", \"age\": 25, \"courses\": [\"Maths\", \"ComSci\"]}\n",
    "\n",
    "print(len(student))\n",
    "print(student.keys())\n",
    "print(student.values())\n",
    "print(student.items())"
   ]
  },
  {
   "cell_type": "markdown",
   "metadata": {},
   "source": [
    "To loop through both keys and values, we have to use the items() method and access both key and value."
   ]
  },
  {
   "cell_type": "code",
   "execution_count": 16,
   "metadata": {},
   "outputs": [
    {
     "name": "stdout",
     "output_type": "stream",
     "text": [
      "name John\n",
      "age 25\n",
      "courses ['Maths', 'ComSci']\n"
     ]
    }
   ],
   "source": [
    "for key, value in student.items():\n",
    "    print(key, value)"
   ]
  }
 ],
 "metadata": {
  "kernelspec": {
   "display_name": "Python 3",
   "language": "python",
   "name": "python3"
  },
  "language_info": {
   "codemirror_mode": {
    "name": "ipython",
    "version": 3
   },
   "file_extension": ".py",
   "mimetype": "text/x-python",
   "name": "python",
   "nbconvert_exporter": "python",
   "pygments_lexer": "ipython3",
   "version": "3.10.5"
  }
 },
 "nbformat": 4,
 "nbformat_minor": 2
}
