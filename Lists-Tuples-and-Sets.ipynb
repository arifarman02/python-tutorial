{
 "cells": [
  {
   "cell_type": "markdown",
   "metadata": {},
   "source": [
    "Lists and Tuples allow us to work with sequential data. Sets are unordered collections of values with no duplicates.\n",
    "Lists are created using []."
   ]
  },
  {
   "cell_type": "code",
   "execution_count": 2,
   "metadata": {},
   "outputs": [
    {
     "name": "stdout",
     "output_type": "stream",
     "text": [
      "['History', 'Maths', 'Physics', 'ComSci']\n"
     ]
    }
   ],
   "source": [
    "courses = [\"History\", \"Maths\", \"Physics\", \"ComSci\"]\n",
    "print(courses)"
   ]
  },
  {
   "cell_type": "markdown",
   "metadata": {},
   "source": [
    "If we want to see how many values are in our list, we can use the len() function."
   ]
  },
  {
   "cell_type": "code",
   "execution_count": 3,
   "metadata": {},
   "outputs": [
    {
     "name": "stdout",
     "output_type": "stream",
     "text": [
      "4\n"
     ]
    }
   ],
   "source": [
    "print(len(courses))"
   ]
  },
  {
   "cell_type": "markdown",
   "metadata": {},
   "source": [
    "We can access each of the values individually using their index. Negative indexes start at the end of a list, so if the index at the start of a list is 0, -1 is the last index in a list."
   ]
  },
  {
   "cell_type": "code",
   "execution_count": 4,
   "metadata": {},
   "outputs": [
    {
     "name": "stdout",
     "output_type": "stream",
     "text": [
      "History\n",
      "ComSci\n"
     ]
    }
   ],
   "source": [
    "print(courses[0])\n",
    "print(courses[-1])"
   ]
  },
  {
   "cell_type": "markdown",
   "metadata": {},
   "source": [
    "We can also access a range of values using their indexes. This is known as slicing. The syntax looks like this: [starting index:ending index]. The first index is inclusive and the end index is excluded."
   ]
  },
  {
   "cell_type": "code",
   "execution_count": 5,
   "metadata": {},
   "outputs": [
    {
     "name": "stdout",
     "output_type": "stream",
     "text": [
      "['History', 'Maths']\n"
     ]
    }
   ],
   "source": [
    "print(courses[0:2])"
   ]
  },
  {
   "cell_type": "markdown",
   "metadata": {},
   "source": [
    "We can leave the starting index blank to get the starting index: [:ending index]."
   ]
  },
  {
   "cell_type": "code",
   "execution_count": 6,
   "metadata": {},
   "outputs": [
    {
     "name": "stdout",
     "output_type": "stream",
     "text": [
      "['History', 'Maths']\n"
     ]
    }
   ],
   "source": [
    "print(courses[:2])"
   ]
  },
  {
   "cell_type": "markdown",
   "metadata": {},
   "source": [
    "We can also leave the ending index blank to get the range of characters from a startind index to the end: [starting index:]."
   ]
  },
  {
   "cell_type": "code",
   "execution_count": 7,
   "metadata": {},
   "outputs": [
    {
     "name": "stdout",
     "output_type": "stream",
     "text": [
      "['Physics', 'ComSci']\n"
     ]
    }
   ],
   "source": [
    "print(courses[2:])"
   ]
  },
  {
   "cell_type": "markdown",
   "metadata": {},
   "source": [
    "We can modify our list by appending or adding, removing and rearranging the order."
   ]
  },
  {
   "cell_type": "code",
   "execution_count": 8,
   "metadata": {},
   "outputs": [
    {
     "name": "stdout",
     "output_type": "stream",
     "text": [
      "['History', 'Maths', 'Physics', 'ComSci', 'Art']\n"
     ]
    }
   ],
   "source": [
    "courses.append(\"Art\")\n",
    "\n",
    "print(courses)"
   ]
  },
  {
   "cell_type": "markdown",
   "metadata": {},
   "source": [
    "We can insert() our value in a specific location in our list, we can use the insert method, which takes two arguments, index and the value"
   ]
  },
  {
   "cell_type": "code",
   "execution_count": 9,
   "metadata": {},
   "outputs": [
    {
     "name": "stdout",
     "output_type": "stream",
     "text": [
      "['Psychology', 'History', 'Maths', 'Physics', 'ComSci', 'Art']\n"
     ]
    }
   ],
   "source": [
    "courses.insert(0, \"Psychology\")\n",
    "\n",
    "print(courses)"
   ]
  },
  {
   "cell_type": "markdown",
   "metadata": {},
   "source": [
    "We can use the extend() method if we have multiple values that we want in our list. If we use the append() or insert() method than the whole list of values is added to our original list as a single value with one index."
   ]
  },
  {
   "cell_type": "code",
   "execution_count": 10,
   "metadata": {},
   "outputs": [
    {
     "name": "stdout",
     "output_type": "stream",
     "text": [
      "['Psychology', 'History', 'Maths', 'Physics', 'ComSci', 'Art', 'Sociology', 'French']\n"
     ]
    }
   ],
   "source": [
    "courses_2 = [\"Sociology\", \"French\"]\n",
    "\n",
    "courses.extend(courses_2)\n",
    "\n",
    "print(courses)"
   ]
  },
  {
   "cell_type": "markdown",
   "metadata": {},
   "source": [
    "To remove an item we can simply use the remove() method."
   ]
  },
  {
   "cell_type": "code",
   "execution_count": 11,
   "metadata": {},
   "outputs": [
    {
     "name": "stdout",
     "output_type": "stream",
     "text": [
      "['Psychology', 'History', 'Physics', 'ComSci', 'Art', 'Sociology', 'French']\n"
     ]
    }
   ],
   "source": [
    "courses.remove(\"Maths\")\n",
    "\n",
    "print(courses)"
   ]
  },
  {
   "cell_type": "markdown",
   "metadata": {},
   "source": [
    "We can also use the pop() method, which by default removes the last item in a list and is very useful in a stack or a queue."
   ]
  },
  {
   "cell_type": "code",
   "execution_count": 12,
   "metadata": {},
   "outputs": [
    {
     "name": "stdout",
     "output_type": "stream",
     "text": [
      "['Psychology', 'History', 'Physics', 'ComSci', 'Art', 'Sociology']\n"
     ]
    }
   ],
   "source": [
    "courses.pop()\n",
    "\n",
    "print(courses)"
   ]
  },
  {
   "cell_type": "markdown",
   "metadata": {},
   "source": [
    "The pop() also returns the removed value, which means we can store our item that was removed."
   ]
  },
  {
   "cell_type": "code",
   "execution_count": 13,
   "metadata": {},
   "outputs": [
    {
     "name": "stdout",
     "output_type": "stream",
     "text": [
      "Sociology\n",
      "['Psychology', 'History', 'Physics', 'ComSci', 'Art']\n"
     ]
    }
   ],
   "source": [
    "popped = courses.pop()\n",
    "\n",
    "print(popped)\n",
    "print(courses)"
   ]
  },
  {
   "cell_type": "markdown",
   "metadata": {},
   "source": [
    "To reverse our list, we can use the reverse() method."
   ]
  },
  {
   "cell_type": "code",
   "execution_count": 14,
   "metadata": {},
   "outputs": [
    {
     "name": "stdout",
     "output_type": "stream",
     "text": [
      "['Art', 'ComSci', 'Physics', 'History', 'Psychology']\n"
     ]
    }
   ],
   "source": [
    "courses.reverse()\n",
    "\n",
    "print(courses)"
   ]
  },
  {
   "cell_type": "markdown",
   "metadata": {},
   "source": [
    "To sort our list, we can use the sort() method. This sorts the list in ascending order."
   ]
  },
  {
   "cell_type": "code",
   "execution_count": 15,
   "metadata": {},
   "outputs": [
    {
     "name": "stdout",
     "output_type": "stream",
     "text": [
      "['Art', 'ComSci', 'History', 'Physics', 'Psychology']\n"
     ]
    }
   ],
   "source": [
    "courses.sort()\n",
    "\n",
    "print(courses)"
   ]
  },
  {
   "cell_type": "markdown",
   "metadata": {},
   "source": [
    "To order our list in descending order, we can pass an argument (reverse=True) into the sort() method."
   ]
  },
  {
   "cell_type": "code",
   "execution_count": 16,
   "metadata": {},
   "outputs": [
    {
     "name": "stdout",
     "output_type": "stream",
     "text": [
      "['Psychology', 'Physics', 'History', 'ComSci', 'Art']\n"
     ]
    }
   ],
   "source": [
    "courses.sort(reverse=True)\n",
    "\n",
    "print(courses)"
   ]
  },
  {
   "cell_type": "markdown",
   "metadata": {},
   "source": [
    "To sort our list without making changes to our original list, we can use the sort() function and store in a new variable (as the changes are not in place)."
   ]
  },
  {
   "cell_type": "code",
   "execution_count": 19,
   "metadata": {},
   "outputs": [
    {
     "name": "stdout",
     "output_type": "stream",
     "text": [
      "['Art', 'ComSci', 'History', 'Physics', 'Psychology']\n"
     ]
    }
   ],
   "source": [
    "sorted_courses = sorted(courses)\n",
    "\n",
    "print(sorted_courses)"
   ]
  },
  {
   "cell_type": "markdown",
   "metadata": {},
   "source": [
    "We can use min() and max() functions to get the smallest or maximum value. We can use the sum() function to get the sum of all values in our list"
   ]
  },
  {
   "cell_type": "code",
   "execution_count": 21,
   "metadata": {},
   "outputs": [
    {
     "name": "stdout",
     "output_type": "stream",
     "text": [
      "1\n",
      "5\n",
      "15\n"
     ]
    }
   ],
   "source": [
    "nums = [1, 5, 2, 4, 3]\n",
    "\n",
    "print(min(nums))\n",
    "print(max(nums))\n",
    "print(sum(nums))"
   ]
  },
  {
   "cell_type": "markdown",
   "metadata": {},
   "source": [
    "We can use the index() method to get the index of a value."
   ]
  },
  {
   "cell_type": "code",
   "execution_count": 22,
   "metadata": {},
   "outputs": [
    {
     "name": "stdout",
     "output_type": "stream",
     "text": [
      "3\n"
     ]
    }
   ],
   "source": [
    "print(courses.index(\"ComSci\"))"
   ]
  },
  {
   "cell_type": "markdown",
   "metadata": {},
   "source": [
    "To check if a value is in our list we can use the \"in\" operator."
   ]
  },
  {
   "cell_type": "code",
   "execution_count": 24,
   "metadata": {},
   "outputs": [
    {
     "name": "stdout",
     "output_type": "stream",
     "text": [
      "False\n",
      "True\n"
     ]
    }
   ],
   "source": [
    "print(\"Sociology\" in courses)\n",
    "print(\"ComSci\" in courses)"
   ]
  },
  {
   "cell_type": "markdown",
   "metadata": {},
   "source": [
    "We can use the \"in\" operator to loop through values in our list by using a for loop."
   ]
  },
  {
   "cell_type": "code",
   "execution_count": 27,
   "metadata": {},
   "outputs": [
    {
     "name": "stdout",
     "output_type": "stream",
     "text": [
      "Psychology\n",
      "Physics\n",
      "History\n",
      "ComSci\n",
      "Art\n"
     ]
    }
   ],
   "source": [
    "for course in courses:\n",
    "    print(course)"
   ]
  },
  {
   "cell_type": "markdown",
   "metadata": {},
   "source": [
    "It may be useful to also get the index of the value along with the value itself that we are on in our loop using the enumerate() function. This means we need to create two temporary variables and print both out."
   ]
  },
  {
   "cell_type": "code",
   "execution_count": 29,
   "metadata": {},
   "outputs": [
    {
     "name": "stdout",
     "output_type": "stream",
     "text": [
      "0 Psychology\n",
      "1 Physics\n",
      "2 History\n",
      "3 ComSci\n",
      "4 Art\n"
     ]
    }
   ],
   "source": [
    "for index, course in enumerate(courses):\n",
    "    print(index, course)"
   ]
  },
  {
   "cell_type": "markdown",
   "metadata": {},
   "source": [
    "We can start our index other than 0 but passing in the \"start=\" argument in the enumerate() function."
   ]
  },
  {
   "cell_type": "code",
   "execution_count": 30,
   "metadata": {},
   "outputs": [
    {
     "name": "stdout",
     "output_type": "stream",
     "text": [
      "1 Psychology\n",
      "2 Physics\n",
      "3 History\n",
      "4 ComSci\n",
      "5 Art\n"
     ]
    }
   ],
   "source": [
    "for index, course in enumerate(courses, start=1):\n",
    "    print(index, course)"
   ]
  },
  {
   "cell_type": "markdown",
   "metadata": {},
   "source": [
    "We can turn our list into strings separated by a certain value using the method join()."
   ]
  },
  {
   "cell_type": "code",
   "execution_count": 34,
   "metadata": {},
   "outputs": [
    {
     "name": "stdout",
     "output_type": "stream",
     "text": [
      "['Psychology', 'Physics', 'History', 'ComSci', 'Art']\n",
      "Psychology, Physics, History, ComSci, Art\n"
     ]
    }
   ],
   "source": [
    "print(courses)\n",
    "\n",
    "course_str = \", \".join(courses)\n",
    "\n",
    "print(course_str)"
   ]
  },
  {
   "cell_type": "markdown",
   "metadata": {},
   "source": [
    "We can turn a string into a list by splitting our string on a certain value but using the split() method."
   ]
  },
  {
   "cell_type": "code",
   "execution_count": 36,
   "metadata": {},
   "outputs": [
    {
     "name": "stdout",
     "output_type": "stream",
     "text": [
      "Psychology, Physics, History, ComSci, Art\n",
      "['Psychology', 'Physics', 'History', 'ComSci', 'Art']\n"
     ]
    }
   ],
   "source": [
    "new_courses_list = course_str.split(\", \")\n",
    "\n",
    "print(course_str)\n",
    "print(new_courses_list)"
   ]
  },
  {
   "cell_type": "markdown",
   "metadata": {},
   "source": [
    "Tuples are similar to a list but we cannot modify it. In other words lists are mutable and tuples are immutable. Now if we have one list which is the value of another list and make changes to the first list than the other list will also change."
   ]
  },
  {
   "cell_type": "code",
   "execution_count": 38,
   "metadata": {},
   "outputs": [
    {
     "name": "stdout",
     "output_type": "stream",
     "text": [
      "['History', 'Maths', 'Physics', 'ComSci']\n",
      "['History', 'Maths', 'Physics', 'ComSci']\n",
      "['Art', 'Maths', 'Physics', 'ComSci']\n",
      "['Art', 'Maths', 'Physics', 'ComSci']\n"
     ]
    }
   ],
   "source": [
    "list_1 = [\"History\", \"Maths\", \"Physics\", \"ComSci\"]\n",
    "list_2 = list_1\n",
    "\n",
    "print(list_1)\n",
    "print(list_2)\n",
    "\n",
    "list_1[0] = \"Art\"\n",
    "\n",
    "print(list_1)\n",
    "print(list_2)"
   ]
  },
  {
   "cell_type": "markdown",
   "metadata": {},
   "source": [
    "To avoid this we can use a tuple in parenthesis and do the same thing which would give us an error."
   ]
  },
  {
   "cell_type": "code",
   "execution_count": 39,
   "metadata": {},
   "outputs": [
    {
     "name": "stdout",
     "output_type": "stream",
     "text": [
      "('History', 'Maths', 'Physics', 'ComSci')\n",
      "('History', 'Maths', 'Physics', 'ComSci')\n"
     ]
    },
    {
     "ename": "TypeError",
     "evalue": "'tuple' object does not support item assignment",
     "output_type": "error",
     "traceback": [
      "\u001b[1;31m---------------------------------------------------------------------------\u001b[0m",
      "\u001b[1;31mTypeError\u001b[0m                                 Traceback (most recent call last)",
      "Cell \u001b[1;32mIn[39], line 7\u001b[0m\n\u001b[0;32m      4\u001b[0m \u001b[38;5;28mprint\u001b[39m(tuple_1)\n\u001b[0;32m      5\u001b[0m \u001b[38;5;28mprint\u001b[39m(tuple_2)\n\u001b[1;32m----> 7\u001b[0m \u001b[43mtuple_1\u001b[49m\u001b[43m[\u001b[49m\u001b[38;5;241;43m0\u001b[39;49m\u001b[43m]\u001b[49m \u001b[38;5;241m=\u001b[39m \u001b[38;5;124m\"\u001b[39m\u001b[38;5;124mArt\u001b[39m\u001b[38;5;124m\"\u001b[39m\n\u001b[0;32m      9\u001b[0m \u001b[38;5;28mprint\u001b[39m(tuple_1)\n\u001b[0;32m     10\u001b[0m \u001b[38;5;28mprint\u001b[39m(tuple_2)\n",
      "\u001b[1;31mTypeError\u001b[0m: 'tuple' object does not support item assignment"
     ]
    }
   ],
   "source": [
    "tuple_1 = (\"History\", \"Maths\", \"Physics\", \"ComSci\")\n",
    "tuple_2 = tuple_1\n",
    "\n",
    "print(tuple_1)\n",
    "print(tuple_2)\n",
    "\n",
    "tuple_1[0] = \"Art\"\n",
    "\n",
    "print(tuple_1)\n",
    "print(tuple_2)"
   ]
  },
  {
   "cell_type": "markdown",
   "metadata": {},
   "source": [
    "Sets are values without any duplicates. We use the curly braces to create a set."
   ]
  },
  {
   "cell_type": "code",
   "execution_count": 42,
   "metadata": {},
   "outputs": [
    {
     "name": "stdout",
     "output_type": "stream",
     "text": [
      "{'History', 'ComSci', 'Maths', 'Physics'}\n"
     ]
    }
   ],
   "source": [
    "cs_courses = {'History', 'Maths', 'Physics', 'ComSci', \"Maths\"}\n",
    "\n",
    "print(cs_courses)"
   ]
  },
  {
   "cell_type": "markdown",
   "metadata": {},
   "source": [
    "We can use a membership test to check if a value is part of a set using the \"in\" operator. Sets are much more optimised for this than lists or tuples."
   ]
  },
  {
   "cell_type": "code",
   "execution_count": 43,
   "metadata": {},
   "outputs": [
    {
     "name": "stdout",
     "output_type": "stream",
     "text": [
      "True\n"
     ]
    }
   ],
   "source": [
    "cs_courses = {'History', 'Maths', 'Physics', 'ComSci', \"Maths\"}\n",
    "\n",
    "print(\"Maths\" in cs_courses)"
   ]
  },
  {
   "cell_type": "markdown",
   "metadata": {},
   "source": [
    "We can compare which items are in or not in another set using the intersection() method, which takes a set as an argument. To see which values are not in another set, we can use the difference() method, which takes a set as an argument. To return all items in a both sets, we can use the union() method, which takes a set as an argument."
   ]
  },
  {
   "cell_type": "code",
   "execution_count": 46,
   "metadata": {},
   "outputs": [
    {
     "name": "stdout",
     "output_type": "stream",
     "text": [
      "{'History', 'Maths'}\n",
      "{'ComSci', 'Physics'}\n",
      "{'Maths', 'Physics', 'History', 'Design', 'ComSci', 'Art'}\n"
     ]
    }
   ],
   "source": [
    "cs_courses = {'History', 'Maths', 'Physics', 'ComSci'}\n",
    "art_courses = {'History', 'Maths', 'Art', 'Design'}\n",
    "\n",
    "print(cs_courses.intersection(art_courses))\n",
    "print(cs_courses.difference(art_courses))\n",
    "print(cs_courses.union(art_courses))"
   ]
  },
  {
   "cell_type": "markdown",
   "metadata": {},
   "source": [
    "We can use built in classes to create empty lists, tuples, or sets. To create an empty set we have to use the built in set() class as an empty curly braces is a dictionary"
   ]
  },
  {
   "cell_type": "code",
   "execution_count": 48,
   "metadata": {},
   "outputs": [],
   "source": [
    "empty_list = []\n",
    "empty_list = list()\n",
    "\n",
    "empty_tuple = ()\n",
    "empty_tuple = tuple()\n",
    "\n",
    "empty_set = {}\n",
    "empty_set = set()"
   ]
  }
 ],
 "metadata": {
  "kernelspec": {
   "display_name": "Python 3",
   "language": "python",
   "name": "python3"
  },
  "language_info": {
   "codemirror_mode": {
    "name": "ipython",
    "version": 3
   },
   "file_extension": ".py",
   "mimetype": "text/x-python",
   "name": "python",
   "nbconvert_exporter": "python",
   "pygments_lexer": "ipython3",
   "version": "3.10.5"
  }
 },
 "nbformat": 4,
 "nbformat_minor": 2
}
