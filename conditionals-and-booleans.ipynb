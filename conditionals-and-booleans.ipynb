{
 "cells": [
  {
   "cell_type": "markdown",
   "metadata": {},
   "source": [
    "Conditionals allow us to control what parts of a programme get executed depending on whether certain values evaluate to true or false, called booleans."
   ]
  },
  {
   "cell_type": "code",
   "execution_count": 3,
   "metadata": {},
   "outputs": [
    {
     "name": "stdout",
     "output_type": "stream",
     "text": [
      "Conditional was True\n"
     ]
    }
   ],
   "source": [
    "language = \"Python\"\n",
    "\n",
    "if language == \"Python\":\n",
    "    print(\"Conditional was True\")"
   ]
  },
  {
   "cell_type": "markdown",
   "metadata": {},
   "source": [
    "We can do basic comparison operators:\n",
    "Addition:        +\n",
    "Subtraction:     -\n",
    "Multiplication:  *\n",
    "Division:        /\n",
    "Floor Division:  //\n",
    "Exponent:        **\n",
    "Modulus:         %\n",
    "Object Identity: is\n",
    "\n",
    "The \"is\" key word is different from ==. \"is\" checks if values have the same id. In other words if they are the same object in memory.\n",
    "\n",
    "We can use the \"else\" statement to execute another part of our programme."
   ]
  },
  {
   "cell_type": "code",
   "execution_count": 5,
   "metadata": {},
   "outputs": [
    {
     "name": "stdout",
     "output_type": "stream",
     "text": [
      "No match\n"
     ]
    }
   ],
   "source": [
    "language = \"Java\"\n",
    "\n",
    "if language == \"Python\":\n",
    "    print(\"Language is Python\")\n",
    "else:\n",
    "    print(\"No match\")"
   ]
  },
  {
   "cell_type": "markdown",
   "metadata": {},
   "source": [
    "We can use the \"elif\" statement to have multiple options that can be executed. The \"elif\" statement goes in between the \"if\" and \"else\" statements."
   ]
  },
  {
   "cell_type": "code",
   "execution_count": 6,
   "metadata": {},
   "outputs": [
    {
     "name": "stdout",
     "output_type": "stream",
     "text": [
      "Language is Java\n"
     ]
    }
   ],
   "source": [
    "language = \"Java\"\n",
    "\n",
    "if language == \"Python\":\n",
    "    print(\"Language is Python\")\n",
    "elif language == \"Java\":\n",
    "    print(\"Language is Java\")\n",
    "else:\n",
    "    print(\"No match\")"
   ]
  },
  {
   "cell_type": "markdown",
   "metadata": {},
   "source": [
    "In addition to comparsions, we have boolean operations: \"and\", \"or\", \"not\"."
   ]
  },
  {
   "cell_type": "code",
   "execution_count": 11,
   "metadata": {},
   "outputs": [
    {
     "name": "stdout",
     "output_type": "stream",
     "text": [
      "Bad creds\n",
      "Admin page\n",
      "Please log in\n"
     ]
    }
   ],
   "source": [
    "user = \"Admin\"\n",
    "logged_in = False\n",
    "\n",
    "if user == \"Admin\" and logged_in:\n",
    "    print(\"Admin page\")\n",
    "else:\n",
    "    print(\"Bad creds\")\n",
    "\n",
    "user = \"Admin\"\n",
    "logged_in = False\n",
    "\n",
    "if user == \"Admin\" or logged_in:\n",
    "    print(\"Admin page\")\n",
    "else:\n",
    "    print(\"Bad creds\")\n",
    "\n",
    "if not logged_in:\n",
    "    print(\"Please log in\")\n",
    "else:\n",
    "    print(\"Welcome\")"
   ]
  },
  {
   "cell_type": "markdown",
   "metadata": {},
   "source": [
    "The \"is\" statement checks if two objects have the id or the same object in memory. We can get the memory location using the built in id() function."
   ]
  },
  {
   "cell_type": "code",
   "execution_count": 15,
   "metadata": {},
   "outputs": [
    {
     "name": "stdout",
     "output_type": "stream",
     "text": [
      "True\n",
      "False\n",
      "1501520158784\n",
      "1501519996224\n",
      "True\n",
      "True\n",
      "1501520677888\n",
      "1501520677888\n"
     ]
    }
   ],
   "source": [
    "a = [1, 2, 3]\n",
    "b = [1, 2, 3]\n",
    "\n",
    "print(a == b)\n",
    "print(a is b)\n",
    "print(id(a))\n",
    "print(id(b))\n",
    "\n",
    "a = [1, 2, 3]\n",
    "b = a\n",
    "\n",
    "print(a == b)\n",
    "print(a is b)\n",
    "print(id(a))\n",
    "print(id(b))"
   ]
  },
  {
   "cell_type": "markdown",
   "metadata": {},
   "source": [
    "Values such as:\n",
    "False\n",
    "None\n",
    "Zero of any numeric type\n",
    "Any empty sequence, e.g. \"\", (), []\n",
    "Any empty mapping, e.g. {}"
   ]
  },
  {
   "cell_type": "code",
   "execution_count": 18,
   "metadata": {},
   "outputs": [
    {
     "name": "stdout",
     "output_type": "stream",
     "text": [
      "Evaluated to False\n",
      "Evaluated to False\n",
      "Evaluated to False\n",
      "Evaluated to False\n",
      "Evaluated to False\n"
     ]
    }
   ],
   "source": [
    "condition = False\n",
    "\n",
    "if condition:\n",
    "    print(\"Evaluated to True\")\n",
    "else:\n",
    "    print(\"Evaluated to False\")\n",
    "\n",
    "condition = None\n",
    "\n",
    "if condition:\n",
    "    print(\"Evaluated to True\")\n",
    "else:\n",
    "    print(\"Evaluated to False\")\n",
    "\n",
    "condition = 0\n",
    "\n",
    "if condition:\n",
    "    print(\"Evaluated to True\")\n",
    "else:\n",
    "    print(\"Evaluated to False\")\n",
    "\n",
    "condition = \"\"\n",
    "\n",
    "if condition:\n",
    "    print(\"Evaluated to True\")\n",
    "else:\n",
    "    print(\"Evaluated to False\")\n",
    "\n",
    "condition = {}\n",
    "\n",
    "if condition:\n",
    "    print(\"Evaluated to True\")\n",
    "else:\n",
    "    print(\"Evaluated to False\")\n"
   ]
  }
 ],
 "metadata": {
  "kernelspec": {
   "display_name": "Python 3",
   "language": "python",
   "name": "python3"
  },
  "language_info": {
   "codemirror_mode": {
    "name": "ipython",
    "version": 3
   },
   "file_extension": ".py",
   "mimetype": "text/x-python",
   "name": "python",
   "nbconvert_exporter": "python",
   "pygments_lexer": "ipython3",
   "version": "3.10.5"
  }
 },
 "nbformat": 4,
 "nbformat_minor": 2
}
